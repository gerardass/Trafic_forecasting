{
 "cells": [
  {
   "cell_type": "markdown",
   "id": "24976db0-e6dc-44a6-8f8b-5760ba25881f",
   "metadata": {},
   "source": [
    "## Packages importation "
   ]
  },
  {
   "cell_type": "code",
   "execution_count": 100,
   "id": "d4e55a1b-372b-4127-8842-ef604996c3aa",
   "metadata": {},
   "outputs": [],
   "source": [
    "import numpy as np\n",
    "import matplotlib.pyplot as plt\n",
    "import pandas as pd"
   ]
  },
  {
   "cell_type": "markdown",
   "id": "6d9dfd1e-83f6-46cc-bd79-c0dae6aa4b91",
   "metadata": {},
   "source": [
    "## Dataset preprocessing"
   ]
  },
  {
   "cell_type": "code",
   "execution_count": 101,
   "id": "52fc2e14-e731-4e88-bc49-e1627bc3914b",
   "metadata": {},
   "outputs": [
    {
     "data": {
      "text/html": [
       "<div>\n",
       "<style scoped>\n",
       "    .dataframe tbody tr th:only-of-type {\n",
       "        vertical-align: middle;\n",
       "    }\n",
       "\n",
       "    .dataframe tbody tr th {\n",
       "        vertical-align: top;\n",
       "    }\n",
       "\n",
       "    .dataframe thead th {\n",
       "        text-align: right;\n",
       "    }\n",
       "</style>\n",
       "<table border=\"1\" class=\"dataframe\">\n",
       "  <thead>\n",
       "    <tr style=\"text-align: right;\">\n",
       "      <th></th>\n",
       "      <th>dates</th>\n",
       "      <th>previsions</th>\n",
       "    </tr>\n",
       "  </thead>\n",
       "  <tbody>\n",
       "    <tr>\n",
       "      <th>0</th>\n",
       "      <td>0</td>\n",
       "      <td>231.14</td>\n",
       "    </tr>\n",
       "    <tr>\n",
       "      <th>1</th>\n",
       "      <td>1</td>\n",
       "      <td>231.14</td>\n",
       "    </tr>\n",
       "    <tr>\n",
       "      <th>2</th>\n",
       "      <td>2</td>\n",
       "      <td>260.19</td>\n",
       "    </tr>\n",
       "    <tr>\n",
       "      <th>3</th>\n",
       "      <td>3</td>\n",
       "      <td>297.16</td>\n",
       "    </tr>\n",
       "    <tr>\n",
       "      <th>4</th>\n",
       "      <td>4</td>\n",
       "      <td>289.22</td>\n",
       "    </tr>\n",
       "  </tbody>\n",
       "</table>\n",
       "</div>"
      ],
      "text/plain": [
       "   dates  previsions\n",
       "0      0      231.14\n",
       "1      1      231.14\n",
       "2      2      260.19\n",
       "3      3      297.16\n",
       "4      4      289.22"
      ]
     },
     "execution_count": 101,
     "metadata": {},
     "output_type": "execute_result"
    }
   ],
   "source": [
    "df = pd.read_csv('SPS.csv', sep=';')\n",
    "df.head()"
   ]
  },
  {
   "cell_type": "code",
   "execution_count": 102,
   "id": "022b7bad-108e-46a9-9f21-39be896a992f",
   "metadata": {},
   "outputs": [],
   "source": [
    "dataset = df[['dates','previsions']]\n",
    "mask = np.random.rand(len(df))<0.5\n",
    "train = dataset[mask]\n",
    "test = dataset[~mask]"
   ]
  },
  {
   "cell_type": "code",
   "execution_count": 103,
   "id": "be845e90-795d-45f7-8b8a-bbc7de9459a9",
   "metadata": {},
   "outputs": [],
   "source": [
    "x_train = train[['dates']]\n",
    "y_train = train['previsions']\n",
    "x_test = test[['dates']]\n",
    "y_test = test['previsions']"
   ]
  },
  {
   "cell_type": "code",
   "execution_count": 104,
   "id": "30d4da59-c518-44ea-abd2-888d068fadd9",
   "metadata": {},
   "outputs": [
    {
     "data": {
      "text/plain": [
       "<matplotlib.collections.PathCollection at 0x1f3db4b2400>"
      ]
     },
     "execution_count": 104,
     "metadata": {},
     "output_type": "execute_result"
    },
    {
     "data": {
      "image/png": "[encoded data removed]",
      "text/plain": [
       "<Figure size 432x288 with 1 Axes>"
      ]
     },
     "metadata": {
      "needs_background": "light"
     },
     "output_type": "display_data"
    }
   ],
   "source": [
    "plt.scatter(dataset.dates,dataset.previsions)"
   ]
  },
  {
   "cell_type": "markdown",
   "id": "b051d0c3-3234-4679-860a-e5a6322e80a6",
   "metadata": {},
   "source": [
    "## Training and previsualization"
   ]
  },
  {
   "cell_type": "code",
   "execution_count": 105,
   "id": "42aeb5bc-07bd-43f9-ab81-d06991334ab3",
   "metadata": {},
   "outputs": [],
   "source": [
    "from sklearn.svm import SVR"
   ]
  },
  {
   "cell_type": "code",
   "execution_count": 111,
   "id": "abd024e7-c2a2-45ff-ad1b-bf9c56e78cf9",
   "metadata": {},
   "outputs": [
    {
     "name": "stdout",
     "output_type": "stream",
     "text": [
      "Test score : 0.8491176753265491\n"
     ]
    }
   ],
   "source": [
    "model = SVR(C = 980000)\n",
    "model.fit(x_train,y_train)\n",
    "print('Test score :' , model.score(x_test,y_test))"
   ]
  },
  {
   "cell_type": "code",
   "execution_count": 110,
   "id": "98add437-1555-439f-b858-88c681dec153",
   "metadata": {},
   "outputs": [
    {
     "data": {
      "text/plain": [
       "[<matplotlib.lines.Line2D at 0x1f3dc582430>]"
      ]
     },
     "execution_count": 110,
     "metadata": {},
     "output_type": "execute_result"
    },
    {
     "data": {
      "image/png": "[encoded data removed]",
      "text/plain": [
       "<Figure size 432x288 with 1 Axes>"
      ]
     },
     "metadata": {
      "needs_background": "light"
     },
     "output_type": "display_data"
    }
   ],
   "source": [
    "plt.scatter(dataset.dates,dataset.previsions)\n",
    "plt.plot(x_test,model.predict(x_test),'r')"
   ]
  },
  {
   "cell_type": "markdown",
   "id": "f9847725-7d9d-478e-a2bb-676d31ecf4ef",
   "metadata": {},
   "source": [
    "## Further previsions"
   ]
  },
  {
   "cell_type": "code",
   "execution_count": 113,
   "id": "7a0b1900-98b3-4a3e-a54a-7c527fbb15fa",
   "metadata": {},
   "outputs": [
    {
     "name": "stdout",
     "output_type": "stream",
     "text": [
      "[517.89014032 524.870247   536.06168166 551.11571307 569.04778566\n",
      " 588.34353077 607.1407259  623.45491507 635.41244342 641.457228\n",
      " 640.5053157 ]\n"
     ]
    },
    {
     "data": {
      "image/png": "[encoded data removed]",
      "text/plain": [
       "<Figure size 432x288 with 1 Axes>"
      ]
     },
     "metadata": {
      "needs_background": "light"
     },
     "output_type": "display_data"
    }
   ],
   "source": [
    "x = np.arange(49,60).reshape(-1,1) #As the dates of our dataset end at 48, 49 is the prévision of the next month and so on\n",
    "y = model.predict(x)\n",
    "print(y)\n",
    "plt.plot(x,y)\n",
    "plt.xlabel('Months')\n",
    "plt.ylabel('PDP Charging previsions')\n",
    "plt.show()"
   ]
  }
 ],
 "metadata": {
  "kernelspec": {
   "display_name": "Python 3",
   "language": "python",
   "name": "python3"
  },
  "language_info": {
   "codemirror_mode": {
    "name": "ipython",
    "version": 3
   },
   "file_extension": ".py",
   "mimetype": "text/x-python",
   "name": "python",
   "nbconvert_exporter": "python",
   "pygments_lexer": "ipython3",
   "version": "3.8.2"
  }
 },
 "nbformat": 4,
 "nbformat_minor": 5
}
