{
 "cells": [
  {
   "cell_type": "markdown",
   "id": "71eafeff-41fa-4e32-828b-0863f732ead3",
   "metadata": {},
   "source": [
    "## Packages importation"
   ]
  },
  {
   "cell_type": "code",
   "execution_count": 1,
   "id": "7a86fe71-38b2-4c81-a0db-2f5200fd4c5c",
   "metadata": {},
   "outputs": [],
   "source": [
    "import numpy as np\n",
    "import pandas as pd\n",
    "import matplotlib.pyplot as plt"
   ]
  },
  {
   "cell_type": "markdown",
   "id": "bb7163c3-63fe-44c5-a6bc-1b2b5f5cad06",
   "metadata": {},
   "source": [
    "## Loading the dataset"
   ]
  },
  {
   "cell_type": "code",
   "execution_count": 17,
   "id": "c93fc7f9-3ebb-44d1-ab4b-c90d58d2bad8",
   "metadata": {
    "scrolled": true,
    "tags": []
   },
   "outputs": [
    {
     "data": {
      "text/html": [
       "<div>\n",
       "<style scoped>\n",
       "    .dataframe tbody tr th:only-of-type {\n",
       "        vertical-align: middle;\n",
       "    }\n",
       "\n",
       "    .dataframe tbody tr th {\n",
       "        vertical-align: top;\n",
       "    }\n",
       "\n",
       "    .dataframe thead th {\n",
       "        text-align: right;\n",
       "    }\n",
       "</style>\n",
       "<table border=\"1\" class=\"dataframe\">\n",
       "  <thead>\n",
       "    <tr style=\"text-align: right;\">\n",
       "      <th></th>\n",
       "      <th>Dates</th>\n",
       "      <th>Throughput</th>\n",
       "    </tr>\n",
       "  </thead>\n",
       "  <tbody>\n",
       "    <tr>\n",
       "      <th>0</th>\n",
       "      <td>1</td>\n",
       "      <td>7.75</td>\n",
       "    </tr>\n",
       "    <tr>\n",
       "      <th>1</th>\n",
       "      <td>2</td>\n",
       "      <td>7.82</td>\n",
       "    </tr>\n",
       "    <tr>\n",
       "      <th>2</th>\n",
       "      <td>3</td>\n",
       "      <td>8.87</td>\n",
       "    </tr>\n",
       "    <tr>\n",
       "      <th>3</th>\n",
       "      <td>4</td>\n",
       "      <td>10.90</td>\n",
       "    </tr>\n",
       "    <tr>\n",
       "      <th>4</th>\n",
       "      <td>5</td>\n",
       "      <td>11.44</td>\n",
       "    </tr>\n",
       "  </tbody>\n",
       "</table>\n",
       "</div>"
      ],
      "text/plain": [
       "   Dates  Throughput\n",
       "0      1        7.75\n",
       "1      2        7.82\n",
       "2      3        8.87\n",
       "3      4       10.90\n",
       "4      5       11.44"
      ]
     },
     "execution_count": 17,
     "metadata": {},
     "output_type": "execute_result"
    }
   ],
   "source": [
    "df = pd.read_csv('Throughput.csv' , sep = ';')\n",
    "df.head()"
   ]
  },
  {
   "cell_type": "code",
   "execution_count": 18,
   "id": "7ac6feea-e5dd-4401-8dec-b2c2b23f1962",
   "metadata": {},
   "outputs": [
    {
     "name": "stdout",
     "output_type": "stream",
     "text": [
      "The size of x is : (62, 1) and the size of y is : (62,)\n"
     ]
    }
   ],
   "source": [
    "x = df[['Dates']]\n",
    "y = df['Throughput']\n",
    "print(f'The size of x is : {x.shape} and the size of y is : {y.shape}')"
   ]
  },
  {
   "cell_type": "code",
   "execution_count": 19,
   "id": "d0ce8d97-04d3-49a5-a0a2-f42c62df3ce3",
   "metadata": {},
   "outputs": [
    {
     "data": {
      "image/png": "[encoded data removed]",
      "text/plain": [
       "<Figure size 432x288 with 1 Axes>"
      ]
     },
     "metadata": {
      "needs_background": "light"
     },
     "output_type": "display_data"
    }
   ],
   "source": [
    "#plt.figure(figsize=(25,15))\n",
    "plt.scatter(df.Dates, df.Throughput)\n",
    "plt.xlabel('Months')\n",
    "plt.ylabel('Throughput')\n",
    "plt.show()"
   ]
  },
  {
   "cell_type": "markdown",
   "id": "b3e62f48-6104-40a9-9d80-fc001b02cc0d",
   "metadata": {},
   "source": [
    "# Model creation and training"
   ]
  },
  {
   "cell_type": "code",
   "execution_count": 20,
   "id": "ab090be2-5462-49f5-8164-0b9c45f74fd7",
   "metadata": {},
   "outputs": [],
   "source": [
    "from sklearn.linear_model import LinearRegression\n",
    "from sklearn.model_selection import train_test_split , cross_val_score"
   ]
  },
  {
   "cell_type": "code",
   "execution_count": 29,
   "id": "b8cb9127-aec3-45da-9961-4af7a8cdcc20",
   "metadata": {},
   "outputs": [
    {
     "name": "stdout",
     "output_type": "stream",
     "text": [
      "The cross validation score is : 0.9913964930892396\n"
     ]
    }
   ],
   "source": [
    "x_train,x_test,y_train,y_test = train_test_split(x,y,test_size = 0.4)\n",
    "model = LinearRegression()\n",
    "model.fit(x_train,y_train)\n",
    "score = cross_val_score(model,x_train,y_train, cv=4).mean(axis = 0)\n",
    "#print('The cross validation score is :', cross_val_score(model,x_train,y_train,cv=4) )\n",
    "print('The cross validation score is :', score )"
   ]
  },
  {
   "cell_type": "markdown",
   "id": "8ac18f03-6f28-40d4-bdfe-aafb85b44138",
   "metadata": {},
   "source": [
    "## Model evaluation"
   ]
  },
  {
   "cell_type": "code",
   "execution_count": 39,
   "id": "0a264939-1b6f-41d0-862c-f8de66cc245c",
   "metadata": {},
   "outputs": [
    {
     "name": "stdout",
     "output_type": "stream",
     "text": [
      "Test score : 0.9741575855022323\n"
     ]
    }
   ],
   "source": [
    "print('Test score :', model.score(x_test,y_test))"
   ]
  },
  {
   "cell_type": "code",
   "execution_count": 40,
   "id": "b75c3ce7-8ff8-45c1-b1fa-599dc66d23b9",
   "metadata": {},
   "outputs": [
    {
     "data": {
      "text/plain": [
       "[<matplotlib.lines.Line2D at 0x25800140ca0>]"
      ]
     },
     "execution_count": 40,
     "metadata": {},
     "output_type": "execute_result"
    },
    {
     "data": {
      "image/png": "[encoded data removed]",
      "text/plain": [
       "<Figure size 432x288 with 1 Axes>"
      ]
     },
     "metadata": {
      "needs_background": "light"
     },
     "output_type": "display_data"
    }
   ],
   "source": [
    "plt.scatter(x_test,y_test)\n",
    "plt.plot(x_test,model.predict(x_test),'r')"
   ]
  },
  {
   "cell_type": "code",
   "execution_count": 36,
   "id": "aac75ebe-8be0-41f2-99d6-89480dcf9729",
   "metadata": {},
   "outputs": [
    {
     "name": "stdout",
     "output_type": "stream",
     "text": [
      "0.6797382396608953\n"
     ]
    }
   ],
   "source": [
    "from sklearn.svm import SVR\n",
    "new_model = SVR()\n",
    "new_model.fit(x_train,y_train)\n",
    "score = cross_val_score(new_model, x_train, y_train, cv = 4).mean(axis = 0)\n",
    "print(score )"
   ]
  },
  {
   "cell_type": "code",
   "execution_count": 41,
   "id": "c462b2cb-a5f3-45c1-baab-a41dfdfb5857",
   "metadata": {},
   "outputs": [
    {
     "data": {
      "text/plain": [
       "0.9320029084251805"
      ]
     },
     "execution_count": 41,
     "metadata": {},
     "output_type": "execute_result"
    }
   ],
   "source": [
    "new_model.score(x_test,y_test)"
   ]
  },
  {
   "cell_type": "code",
   "execution_count": null,
   "id": "a4217f47-d400-460b-b8ff-a03efd4b36f8",
   "metadata": {},
   "outputs": [],
   "source": []
  }
 ],
 "metadata": {
  "kernelspec": {
   "display_name": "Python 3",
   "language": "python",
   "name": "python3"
  },
  "language_info": {
   "codemirror_mode": {
    "name": "ipython",
    "version": 3
   },
   "file_extension": ".py",
   "mimetype": "text/x-python",
   "name": "python",
   "nbconvert_exporter": "python",
   "pygments_lexer": "ipython3",
   "version": "3.8.2"
  }
 },
 "nbformat": 4,
 "nbformat_minor": 5
}
